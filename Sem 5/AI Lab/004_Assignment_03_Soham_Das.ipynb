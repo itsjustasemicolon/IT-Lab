{
  "nbformat": 4,
  "nbformat_minor": 0,
  "metadata": {
    "colab": {
      "provenance": []
    },
    "kernelspec": {
      "name": "python3",
      "display_name": "Python 3"
    },
    "language_info": {
      "name": "python"
    }
  },
  "cells": [
    {
      "cell_type": "markdown",
      "source": [
        "**Assignment - 3**\n",
        "\n",
        "Name : Soham Das\n",
        "\n",
        "Roll : *002311001004*\n",
        "\n",
        "Department : Information Technology (A3)\n"
      ],
      "metadata": {
        "id": "1oovB5VlK4GO"
      }
    },
    {
      "cell_type": "code",
      "execution_count": null,
      "metadata": {
        "colab": {
          "base_uri": "https://localhost:8080/"
        },
        "id": "FxpfuVjc2GiJ",
        "outputId": "2763c2c9-ae77-439b-8fc0-5227191c1904"
      },
      "outputs": [
        {
          "output_type": "stream",
          "name": "stdout",
          "text": [
            "Enter capacity of Jug A: 5\n",
            "Enter capacity of Jug B: 3\n",
            "Enter target amount for Jug A: 2\n",
            "Solution written to output.txt\n"
          ]
        }
      ],
      "source": [
        "from collections import deque\n",
        "from math import gcd\n",
        "\n",
        "def water_jug_bfs(cap1, cap2, target, output_file):\n",
        "    if target > cap1 or target < 0:\n",
        "        result = f\"No solution possible: target must be within [0, {cap1}].\"\n",
        "        open(output_file, \"w\").write(result)\n",
        "        return\n",
        "    if target % gcd(cap1, cap2) != 0:\n",
        "        result = f\"No solution possible: target not divisible by gcd({cap1}, {cap2}).\"\n",
        "        open(output_file, \"w\").write(result)\n",
        "        return\n",
        "\n",
        "    start = (0, 0)\n",
        "    q = deque([start])\n",
        "    visited = {start}\n",
        "    parent = {start: (None, None)}\n",
        "\n",
        "    output_lines = []\n",
        "    output_lines.append(f\"Starting BFS for jugs ({cap1}L, {cap2}L), target = {target}L\\n\")\n",
        "\n",
        "    while q:\n",
        "        a, b = q.popleft()\n",
        "        output_lines.append(f\"Visiting state: ({a}L, {b}L)\")\n",
        "\n",
        "        if a == target and b == 0:\n",
        "            path = []\n",
        "            s = (a, b)\n",
        "            while s is not None:\n",
        "                prev, act = parent[s]\n",
        "                path.append((s, act))\n",
        "                s = prev\n",
        "            path.reverse()\n",
        "            output_lines.append(\"\\nSolution found\")\n",
        "            for i, (s, act) in enumerate(path[1:], 1):\n",
        "                output_lines.append(f\"Step {i}: {act} -> ({s[0]}L, {s[1]}L)\")\n",
        "            output_lines.append(f\"\\nFinal state: ({path[-1][0][0]}L, {path[-1][0][1]}L)\")\n",
        "            open(output_file, \"w\").write(\"\\n\".join(output_lines))\n",
        "            return\n",
        "\n",
        "        moves = []\n",
        "        if a < cap1: moves.append(((cap1, b), \"Fill A\"))\n",
        "        if b < cap2: moves.append(((a, cap2), \"Fill B\"))\n",
        "        if a > 0:    moves.append(((0, b), \"Empty A\"))\n",
        "        if b > 0:    moves.append(((a, 0), \"Empty B\"))\n",
        "        if a > 0 and b < cap2:\n",
        "            t = min(a, cap2 - b)\n",
        "            moves.append(((a - t, b + t), f\"Pour A->B ({t}L)\"))\n",
        "        if b > 0 and a < cap1:\n",
        "            t = min(b, cap1 - a)\n",
        "            moves.append(((a + t, b - t), f\"Pour B->A ({t}L)\"))\n",
        "\n",
        "        for ns, act in moves:\n",
        "            if ns not in visited:\n",
        "                visited.add(ns)\n",
        "                parent[ns] = ((a, b), act)\n",
        "                q.append(ns)\n",
        "\n",
        "    output_lines.append(\"No solution possible.\")\n",
        "    open(output_file, \"w\").write(\"\\n\".join(output_lines))\n",
        "32\n",
        "\n",
        "cap1 = int(input(\"Enter capacity of Jug A: \"))\n",
        "cap2 = int(input(\"Enter capacity of Jug B: \"))\n",
        "target = int(input(\"Enter target amount for Jug A: \"))\n",
        "output_file = \"output.txt\"\n",
        "\n",
        "water_jug_bfs(cap1, cap2, target, output_file)\n",
        "print(f\"Solution written to {output_file}\")"
      ]
    }
  ]
}