{
  "nbformat": 4,
  "nbformat_minor": 0,
  "metadata": {
    "colab": {
      "provenance": []
    },
    "kernelspec": {
      "name": "python3",
      "display_name": "Python 3"
    },
    "language_info": {
      "name": "python"
    }
  },
  "cells": [
    {
      "cell_type": "markdown",
      "metadata": {
        "id": "00654ebf"
      },
      "source": [
        "# Task 1: Understand the Python language, code library, package etc.\n"
      ]
    },
    {
      "cell_type": "markdown",
      "source": [
        "## Python Language, Code Library, and Package\n",
        "\n",
        "### Python Language\n",
        "Python is a high-level, interpreted, general-purpose programming language. Its design philosophy emphasizes code readability with the use of significant indentation. Python is dynamically-typed and garbage-collected. It supports multiple programming paradigms, including structured (particularly procedural), object-oriented, and functional programming.\n",
        "\n",
        "Key features of Python include:\n",
        "*   **Readability:** Python's syntax is clear and easy to understand, making it a good choice for beginners and for collaborative projects.\n",
        "*   **Large Standard Library:** Python comes with a comprehensive standard library that provides modules for various tasks.\n",
        "*   **Platform Independence:** Python code can run on different operating systems without modification.\n",
        "\n",
        "\n",
        "Compared to other languages, Python is often considered easier to learn due to its simpler syntax. It is an interpreted language, meaning code is executed line by line, which can make debugging easier than compiled languages like C++ or Java.\n",
        "\n",
        "### Code Library\n",
        "In the context of Python, a code library (often referred to as a module or a collection of modules) is a collection of pre-written code that provides functions, classes, and methods to perform specific tasks. Libraries are designed to be reusable, saving developers time and effort by not having to write code from scratch for common functionalities.\n",
        "\n",
        "Libraries are imported into your Python script to access their contents.\n",
        "\n",
        "\n",
        "### Python Package\n",
        "A Python package is a way of organizing related modules into a directory hierarchy. It is essentially a folder containing one or more modules (Python files with a `.py` extension) and typically includes an `__init__.py` file, which helps Python recognize the directory as a package. Packages allow for better organization and management of larger codebases.\n",
        "\n",
        "Packages can contain sub-packages, creating a nested structure. This helps in avoiding naming conflicts and provides a clear structure for accessing different parts of a large library.\n",
        "\n",
        "Python Packages & Common Libraries\n",
        "\n",
        "A package is a way to organize related modules into a directory structure. Many of the most powerful tools in the Python ecosystem are distributed as packages.Some of the most common ones:\n",
        "\n",
        "   * **NumPy (Numerical Python):** The fundamental package for scientific computing. It provides support for large, multi-dimensional arrays and matrices, along with a collection of high-level mathematical functions to operate on these arrays efficiently.\n",
        "\n",
        "   * **Pandas:** A powerful library for data manipulation and analysis. It introduces two primary data structures, the DataFrame and Series, which allow for intuitive reading, writing, and transformation of tabular data from various sources like CSV files or SQL databases.\n",
        "\n",
        "   * **Matplotlib:** A comprehensive library for creating static, animated, and interactive visualizations. It allows for the creation of a wide variety of plots and charts, such as line graphs, bar charts, and histograms, and is highly customizable.\n",
        "\n",
        "   * **Scikit-learn:** A go-to library for machine learning. It provides simple and efficient tools for data mining and data analysis, featuring various algorithms for classification, regression, clustering, and model selection.\n",
        "\n",
        "   * **TensorFlow & PyTorch:** The two leading open-source frameworks for deep learning. They provide extensive tools for building, training, and deploying neural networks and other complex machine learning models."
      ],
      "metadata": {
        "id": "j_9rlGqg1mNt"
      }
    },
    {
      "cell_type": "markdown",
      "metadata": {
        "id": "1c029664"
      },
      "source": [
        "## Task 2: Generate the BFS function\n",
        "\n",
        "Write a Python function for Breadth-First Search (BFS) without using recursion.\n"
      ]
    },
    {
      "cell_type": "code",
      "metadata": {
        "id": "7d881500"
      },
      "source": [
        "from collections import deque\n",
        "\n",
        "def bfs(graph, start_node):\n",
        "    \"\"\"\n",
        "    Performs a Breadth-First Search on a graph.\n",
        "\n",
        "    Args:\n",
        "        graph: A dictionary representing the graph as an adjacency list.\n",
        "        start_node: The node to start the BFS from.\n",
        "\n",
        "    Returns:\n",
        "        A list of nodes visited in BFS order.\n",
        "    \"\"\"\n",
        "    visited = set()\n",
        "    queue = deque([start_node])\n",
        "    visited.add(start_node)\n",
        "    visited_order = []\n",
        "\n",
        "    while queue:\n",
        "        current_node = queue.popleft()\n",
        "        visited_order.append(current_node)\n",
        "\n",
        "        if current_node in graph: # Check if the node has neighbors in the graph\n",
        "            for neighbor in graph[current_node]:\n",
        "                if neighbor not in visited:\n",
        "                    visited.add(neighbor)\n",
        "                    queue.append(neighbor)\n",
        "\n",
        "    return visited_order\n"
      ],
      "execution_count": 1,
      "outputs": []
    },
    {
      "cell_type": "markdown",
      "metadata": {
        "id": "f572d6f8"
      },
      "source": [
        "## Task 3: Visualize Graph using the BFS Function\n",
        "\n",
        "Code to represent and print a graph.\n"
      ]
    },
    {
      "cell_type": "code",
      "metadata": {
        "colab": {
          "base_uri": "https://localhost:8080/"
        },
        "id": "7228534d",
        "outputId": "f40e1972-fcdb-466f-91f1-1cdd118e025c"
      },
      "source": [
        "# 1. Create an adjacency list for the undirected graph\n",
        "graph = {\n",
        "    'A': ['B', 'C'],\n",
        "    'B': ['A', 'D', 'E'],\n",
        "    'C': ['A', 'F'],\n",
        "    'D': ['B'],\n",
        "    'E': ['B', 'F'],\n",
        "    'F': ['C', 'E','G'],\n",
        "    'G': ['H','I'],\n",
        "    'H': ['G','J'],\n",
        "    'I': ['G'],\n",
        "    'J': ['H']\n",
        "}\n",
        "\n",
        "# 2. Print the graph\n",
        "print(\"Graph representation (Adjacency List):\")\n",
        "print(graph)\n",
        "\n",
        "# 3. Choose a starting node\n",
        "start_node = 'A'\n",
        "\n",
        "# 4. Call the bfs function\n",
        "bfs_order = bfs(graph, start_node)\n",
        "\n",
        "# 5. Print the BFS traversal order\n",
        "print(f\"\\nBFS traversal starting from node '{start_node}':\")\n",
        "print(bfs_order)"
      ],
      "execution_count": 2,
      "outputs": [
        {
          "output_type": "stream",
          "name": "stdout",
          "text": [
            "Graph representation (Adjacency List):\n",
            "{'A': ['B', 'C'], 'B': ['A', 'D', 'E'], 'C': ['A', 'F'], 'D': ['B'], 'E': ['B', 'F'], 'F': ['C', 'E', 'G'], 'G': ['H', 'I'], 'H': ['G', 'J'], 'I': ['G'], 'J': ['H']}\n",
            "\n",
            "BFS traversal starting from node 'A':\n",
            "['A', 'B', 'C', 'D', 'E', 'F', 'G', 'H', 'I', 'J']\n"
          ]
        }
      ]
    }
  ]
}